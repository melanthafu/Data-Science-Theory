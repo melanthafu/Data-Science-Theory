{
 "cells": [
  {
   "cell_type": "code",
   "execution_count": 29,
   "metadata": {
    "collapsed": true
   },
   "outputs": [],
   "source": [
    "coins = [2, 5, 10, 20]"
   ]
  },
  {
   "cell_type": "code",
   "execution_count": 11,
   "metadata": {
    "collapsed": true
   },
   "outputs": [],
   "source": [
    "# replicates dont allow\n",
    "def change(coins, change):\n",
    "    dp = [0] * (change + 1)\n",
    "    dp[0] = 1\n",
    "    for i in range(1, change + 1):\n",
    "        for j in coins:\n",
    "            if (i >= j) and (dp[i - j] > 0):\n",
    "                dp[i] = 1\n",
    "    return dp"
   ]
  },
  {
   "cell_type": "code",
   "execution_count": 44,
   "metadata": {
    "collapsed": true
   },
   "outputs": [],
   "source": [
    "# replicates dont allow\n",
    "def change(coins, change):\n",
    "    dp = [0] * (change + 1)\n",
    "    dp[0] = 1\n",
    "    for i in range(1, change + 1):\n",
    "        for j in coins:\n",
    "            if (i >= j) and (dp[i - j] > 0):\n",
    "                if dp[i] == 0:\n",
    "                    dp[i] = dp[i - j] + 1\n",
    "                else:\n",
    "                    dp[i] = max(dp[i - j] + 1, dp[i]) # min\n",
    "    return dp[-1] - 1"
   ]
  },
  {
   "cell_type": "code",
   "execution_count": 47,
   "metadata": {},
   "outputs": [
    {
     "data": {
      "text/plain": [
       "50"
      ]
     },
     "execution_count": 47,
     "metadata": {},
     "output_type": "execute_result"
    }
   ],
   "source": [
    "change(coins, 100)"
   ]
  }
 ],
 "metadata": {
  "kernelspec": {
   "display_name": "Python 3",
   "language": "python",
   "name": "python3"
  },
  "language_info": {
   "codemirror_mode": {
    "name": "ipython",
    "version": 3
   },
   "file_extension": ".py",
   "mimetype": "text/x-python",
   "name": "python",
   "nbconvert_exporter": "python",
   "pygments_lexer": "ipython3",
   "version": "3.6.2"
  }
 },
 "nbformat": 4,
 "nbformat_minor": 2
}
