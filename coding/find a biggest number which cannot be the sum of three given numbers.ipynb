{
 "cells": [
  {
   "cell_type": "code",
   "execution_count": 94,
   "metadata": {
    "collapsed": true
   },
   "outputs": [],
   "source": [
    "# USE DFS TO TRAVERSE\n",
    "\n",
    "def three_num_sum(n, nums):\n",
    "    if n is None:\n",
    "        return True\n",
    "    if len(nums) == 0:\n",
    "        return True\n",
    "    result = []\n",
    "    temp = []\n",
    "    nums.sort()\n",
    "    traverse(result, temp, n, nums, 0)\n",
    "    print (result)\n",
    "#     return (0 in result)\n",
    "\n",
    "def traverse(result, temp, target, nums, start):\n",
    "    if target == 0:\n",
    "        result.append(temp[:])\n",
    "        return result\n",
    "    for i in range(start, len(nums)):\n",
    "        if nums[i] > target:\n",
    "            break\n",
    "        else:\n",
    "            temp.append(nums[i])\n",
    "            traverse(result, temp, target - nums[i], nums, i)\n",
    "            temp.remove(nums[i])"
   ]
  },
  {
   "cell_type": "code",
   "execution_count": 96,
   "metadata": {},
   "outputs": [
    {
     "name": "stdout",
     "output_type": "stream",
     "text": [
      "[[6, 6, 6, 6, 6, 6, 6, 6], [6, 6, 6, 6, 6, 9, 9], [6, 6, 9, 9, 9, 9]]\n"
     ]
    }
   ],
   "source": [
    "res = three_num_sum(48, [6,9,20])"
   ]
  },
  {
   "cell_type": "code",
   "execution_count": 97,
   "metadata": {},
   "outputs": [],
   "source": [
    "# find the largest number cannot be written as the sum of the a list of numbers\n",
    "# the pre-requisites are gcd(x1,x2,x3,...) = 1 !!!!!!!!\n",
    "# the theorem is:\n",
    "# sum(lcm(a, b)) - sum(list)"
   ]
  },
  {
   "cell_type": "code",
   "execution_count": 112,
   "metadata": {},
   "outputs": [],
   "source": [
    "def gcd(a, b):\n",
    "    while b != 0:\n",
    "        r = a % b\n",
    "        a = b\n",
    "        b = r\n",
    "    return a\n",
    "\n",
    "def lcm(a, b):\n",
    "    return int(a * b / gcd(a, b))"
   ]
  },
  {
   "cell_type": "code",
   "execution_count": 113,
   "metadata": {},
   "outputs": [
    {
     "name": "stdout",
     "output_type": "stream",
     "text": [
      "3\n",
      "18\n"
     ]
    }
   ],
   "source": [
    "print (gcd(6, 9))\n",
    "print (lcm(6, 9))"
   ]
  },
  {
   "cell_type": "code",
   "execution_count": 117,
   "metadata": {
    "collapsed": true
   },
   "outputs": [],
   "source": [
    "def find_max_num():\n",
    "    return lcm(6, 9) + lcm(6, 20) - (6+9+20)"
   ]
  },
  {
   "cell_type": "code",
   "execution_count": 118,
   "metadata": {},
   "outputs": [
    {
     "data": {
      "text/plain": [
       "43"
      ]
     },
     "execution_count": 118,
     "metadata": {},
     "output_type": "execute_result"
    }
   ],
   "source": [
    "find_max_num()"
   ]
  }
 ],
 "metadata": {
  "kernelspec": {
   "display_name": "Python 3",
   "language": "python",
   "name": "python3"
  },
  "language_info": {
   "codemirror_mode": {
    "name": "ipython",
    "version": 3
   },
   "file_extension": ".py",
   "mimetype": "text/x-python",
   "name": "python",
   "nbconvert_exporter": "python",
   "pygments_lexer": "ipython3",
   "version": "3.6.2"
  }
 },
 "nbformat": 4,
 "nbformat_minor": 2
}
