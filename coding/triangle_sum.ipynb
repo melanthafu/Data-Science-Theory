{
 "cells": [
  {
   "cell_type": "code",
   "execution_count": 15,
   "metadata": {
    "collapsed": true
   },
   "outputs": [],
   "source": [
    "def find_min_path(l1):\n",
    "    # initialization\n",
    "    dp = [[0 for j in range(len(l1[i]))] for i in range(len(l1))]\n",
    "    dp[0][0] = l1[0][0]\n",
    "    for i in range(1, len(l1)):\n",
    "        dp[i][0] = dp[i - 1][0] + l1[i][0]\n",
    "        dp[i][-1] = dp[i - 1][-1] + l1[i][-1]\n",
    "        \n",
    "    # dp\n",
    "    for i in range(1, len(l1)):\n",
    "        for j in range(1, len(l1[i]) - 1):\n",
    "            dp[i][j] = min(dp[i-1][j], dp[i-1][j-1]) + l1[i][j]\n",
    "            \n",
    "    return dp"
   ]
  },
  {
   "cell_type": "code",
   "execution_count": 4,
   "metadata": {},
   "outputs": [
    {
     "data": {
      "text/plain": [
       "10"
      ]
     },
     "execution_count": 4,
     "metadata": {},
     "output_type": "execute_result"
    }
   ],
   "source": [
    "l1 = [ [6],[3, 1], [2, 1, 9],[7,2,8,1]]\n",
    "find_min_path(l1)"
   ]
  },
  {
   "cell_type": "code",
   "execution_count": 33,
   "metadata": {
    "collapsed": true
   },
   "outputs": [],
   "source": [
    "# print out the minimum paths\n",
    "import numpy as np\n",
    "def find_min_paths(l1):\n",
    "    dp = find_min_path(l1)\n",
    "    min_val = min(dp[-1])\n",
    "    res= []\n",
    "    for i in range(len(l1)-1, -1, -1):\n",
    "        print (i, dp[i])\n",
    "        ind = dp[i].index(min_val)\n",
    "        res = [l1[i][ind]] + res\n",
    "        min_val = min_val - l1[i][ind]\n",
    "    return res"
   ]
  },
  {
   "cell_type": "code",
   "execution_count": 32,
   "metadata": {},
   "outputs": [
    {
     "name": "stdout",
     "output_type": "stream",
     "text": [
      "3 [18, 10, 16, 17]\n",
      "2 [11, 8, 16]\n",
      "1 [9, 7]\n",
      "0 [6]\n"
     ]
    },
    {
     "data": {
      "text/plain": [
       "[6, 1, 1, 2]"
      ]
     },
     "execution_count": 32,
     "metadata": {},
     "output_type": "execute_result"
    }
   ],
   "source": [
    "find_min_paths(l1)"
   ]
  }
 ],
 "metadata": {
  "kernelspec": {
   "display_name": "Python 3",
   "language": "python",
   "name": "python3"
  },
  "language_info": {
   "codemirror_mode": {
    "name": "ipython",
    "version": 3
   },
   "file_extension": ".py",
   "mimetype": "text/x-python",
   "name": "python",
   "nbconvert_exporter": "python",
   "pygments_lexer": "ipython3",
   "version": "3.6.2"
  }
 },
 "nbformat": 4,
 "nbformat_minor": 2
}
