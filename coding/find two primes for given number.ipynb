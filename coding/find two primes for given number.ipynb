{
 "cells": [
  {
   "cell_type": "code",
   "execution_count": 8,
   "metadata": {
    "collapsed": true
   },
   "outputs": [],
   "source": [
    "# find all primes smaller than n\n",
    "def prime_sieve(n):\n",
    "    sieve = [True] * n\n",
    "    sieve[:2] = [False, False]\n",
    "    primes = []\n",
    "    \n",
    "    for prime, is_prime in enumerate(sieve):\n",
    "        if not is_prime:\n",
    "            continue\n",
    "        primes.append(prime)\n",
    "        for not_prime in range(prime * prime, n, prime):\n",
    "            sieve[not_prime] = False\n",
    "    return primes"
   ]
  },
  {
   "cell_type": "code",
   "execution_count": 9,
   "metadata": {
    "collapsed": true
   },
   "outputs": [],
   "source": [
    "# two sum\n",
    "def find_two_primes(n):\n",
    "    primes = prime_sieve(n)\n",
    "    start, end = 0, len(primes) - 1\n",
    "    while start < end:\n",
    "        if primes[start] + primes[end] > n:\n",
    "            end -= 1\n",
    "        elif primes[start] + primes[end] < n:\n",
    "            start += 1\n",
    "        else:\n",
    "            return (primes[start], primes[end])"
   ]
  },
  {
   "cell_type": "code",
   "execution_count": 12,
   "metadata": {},
   "outputs": [
    {
     "data": {
      "text/plain": [
       "(5, 37)"
      ]
     },
     "execution_count": 12,
     "metadata": {},
     "output_type": "execute_result"
    }
   ],
   "source": [
    "find_two_primes(42)"
   ]
  }
 ],
 "metadata": {
  "kernelspec": {
   "display_name": "Python 3",
   "language": "python",
   "name": "python3"
  },
  "language_info": {
   "codemirror_mode": {
    "name": "ipython",
    "version": 3
   },
   "file_extension": ".py",
   "mimetype": "text/x-python",
   "name": "python",
   "nbconvert_exporter": "python",
   "pygments_lexer": "ipython3",
   "version": "3.6.2"
  }
 },
 "nbformat": 4,
 "nbformat_minor": 2
}
